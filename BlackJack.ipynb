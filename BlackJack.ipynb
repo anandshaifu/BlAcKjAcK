{
 "cells": [
  {
   "cell_type": "code",
   "execution_count": 1,
   "metadata": {},
   "outputs": [],
   "source": [
    "import random\n",
    "\n",
    "suits = ('Hearts', 'Diamonds', 'Spades', 'Clubs')\n",
    "ranks = ('Two', 'Three', 'Four', 'Five', 'Six', 'Seven', 'Eight', 'Nine', 'Ten', 'Jack', 'Queen', 'King', 'Ace')\n",
    "values = {'Two':2, 'Three':3, 'Four':4, 'Five':5, 'Six':6, 'Seven':7, 'Eight':8, 'Nine':9, 'Ten':10, 'Jack':10,\n",
    "         'Queen':10, 'King':10, 'Ace':11}\n",
    "    \n",
    "playing = True"
   ]
  },
  {
   "cell_type": "code",
   "execution_count": 2,
   "metadata": {},
   "outputs": [],
   "source": [
    "class Card:\n",
    "    def __init__(self,suit,rank):\n",
    "        self.suit = suit\n",
    "        self.rank = rank\n",
    "    def __str__(self):\n",
    "        return self.suit + \" of \" + self.rank"
   ]
  },
  {
   "cell_type": "code",
   "execution_count": 3,
   "metadata": {},
   "outputs": [],
   "source": [
    "class Deck:\n",
    "    def __init__(self):\n",
    "        self.deck = [] #empty deck for storing the data\n",
    "        for suit in suits:\n",
    "            for rank in ranks:\n",
    "                self.deck.append(Card(suit,rank))\n",
    "    def shuffle(self):\n",
    "        random.shuffle(self.deck)\n",
    "    def __str__(self):\n",
    "        deck_comp = \"\"\n",
    "        for _ in self.deck:\n",
    "            deck_comp += '/n' + Card.__str__()\n",
    "            return \"The deck has...\" + deck_comp\n",
    "    def deal(self):\n",
    "        single_card = self.deck.pop()\n",
    "        return single_card"
   ]
  },
  {
   "cell_type": "code",
   "execution_count": 4,
   "metadata": {},
   "outputs": [],
   "source": [
    "class Hand:\n",
    "    def __init__(self):\n",
    "        self.cards = []  # start with an empty list as we did in the Deck class\n",
    "        self.value = 0   # start with zero value\n",
    "        self.aces = 0    # add an attribute to keep track of aces\n",
    "\n",
    "    def add_card(self,card):\n",
    "        self.cards.append(card)\n",
    "        self.value += values[card.rank]\n",
    "        if card.rank == 'Ace':\n",
    "            self.aces += 1\n",
    "\n",
    "    def adjust_for_ace(self):\n",
    "        while self.value > 21 and self.aces:\n",
    "            self.value -= 10\n",
    "            self.aces -= 1"
   ]
  },
  {
   "cell_type": "code",
   "execution_count": 5,
   "metadata": {},
   "outputs": [],
   "source": [
    "class Chips:    \n",
    "    def __init__(self):\n",
    "        self.total = 100  # This can be set to a default value or supplied by a user input\n",
    "        self.bet = 0\n",
    "\n",
    "    def win_bet(self):\n",
    "        self.total += self.bet\n",
    "\n",
    "    def lose_bet(self):\n",
    "        self.total -= self.bet"
   ]
  },
  {
   "cell_type": "code",
   "execution_count": 6,
   "metadata": {},
   "outputs": [],
   "source": [
    "def take_bet(Chips):\n",
    "    while True:\n",
    "        try:\n",
    "            Chips.bet = int(input(\"Enter the bet...\"))\n",
    "        except:\n",
    "            print(\"Enter a numeric value...\")\n",
    "        else:\n",
    "            if Chips.bet > Chips.total:\n",
    "                print(\"You do not sufficient amount..!!!\")\n",
    "            else:\n",
    "                break"
   ]
  },
  {
   "cell_type": "code",
   "execution_count": 7,
   "metadata": {},
   "outputs": [],
   "source": [
    "def hit(deck,hand):\n",
    "    hand.add_card(deck.deal())\n",
    "    hand.adjust_for_ace()"
   ]
  },
  {
   "cell_type": "code",
   "execution_count": 8,
   "metadata": {},
   "outputs": [],
   "source": [
    "def hit_or_stand(deck,hand):\n",
    "    global playing  # to control an upcoming while loop\n",
    "    while True:\n",
    "        z = input(\"What do you want to do..?? Hit or Stand.. Enter 'h' or 's'\")\n",
    "        if z[0].lower() == 'h':\n",
    "            hit(deck,hand)\n",
    "        elif z[0].lower() == 's':\n",
    "            print(\"Player Stands.. Dealer's Turn..\")\n",
    "            playing = False\n",
    "        else:\n",
    "            print(\"Sorry.. didnt understand that.. Enter 'h' or 's'\")\n",
    "            continue\n",
    "        break"
   ]
  },
  {
   "cell_type": "code",
   "execution_count": 9,
   "metadata": {},
   "outputs": [],
   "source": [
    "def player_busts(player,dealer,Chips):\n",
    "    print(\"Player BUSTED..\")\n",
    "    Chips.lose_bet()\n",
    "    \n",
    "def player_wins(player,dealer,Chips):\n",
    "    print(\"Player WINS..\")\n",
    "    Chips.win_bet()\n",
    "\n",
    "def dealer_busts(player,dealer,Chips):\n",
    "    print(\"Player WINS.. Dealer BUSTED..\")\n",
    "    Chips.win_bet()\n",
    "\n",
    "def dealer_wins(player,dealer,Chips):\n",
    "    print(\"Dealer WINS..\")\n",
    "    Chips.lose_bet()\n",
    "\n",
    "def push(player,dealer):\n",
    "    print(\"Game TIED.. PUSH\")"
   ]
  },
  {
   "cell_type": "code",
   "execution_count": 10,
   "metadata": {},
   "outputs": [],
   "source": [
    "def show_some(player,dealer):\n",
    "    print(\"\\nDealer's Hand:\")\n",
    "    print(\" <card hidden>\")\n",
    "    print('',dealer.cards[1])  \n",
    "    print(\"\\nPlayer's Hand:\", *player.cards, sep='\\n ')\n",
    "    \n",
    "def show_all(player,dealer):\n",
    "    print(\"\\nDealer's Hand:\", *dealer.cards, sep='\\n ')\n",
    "    print(\"Dealer's Hand =\",dealer.value)\n",
    "    print(\"\\nPlayer's Hand:\", *player.cards, sep='\\n ')\n",
    "    print(\"Player's Hand =\",player.value)"
   ]
  },
  {
   "cell_type": "code",
   "execution_count": 11,
   "metadata": {},
   "outputs": [
    {
     "name": "stdout",
     "output_type": "stream",
     "text": [
      "Welcome to the game...\n"
     ]
    },
    {
     "name": "stdin",
     "output_type": "stream",
     "text": [
      "Enter the bet... 100\n"
     ]
    },
    {
     "name": "stdout",
     "output_type": "stream",
     "text": [
      "\n",
      "Dealer's Hand:\n",
      " <card hidden>\n",
      " Clubs of Three\n",
      "\n",
      "Player's Hand:\n",
      " Hearts of Ten\n",
      " Hearts of Ace\n"
     ]
    },
    {
     "name": "stdin",
     "output_type": "stream",
     "text": [
      "What do you want to do..?? Hit or Stand.. Enter 'h' or 's' h\n"
     ]
    },
    {
     "name": "stdout",
     "output_type": "stream",
     "text": [
      "\n",
      "Dealer's Hand:\n",
      " <card hidden>\n",
      " Clubs of Three\n",
      "\n",
      "Player's Hand:\n",
      " Hearts of Ten\n",
      " Hearts of Ace\n",
      " Diamonds of Ace\n"
     ]
    },
    {
     "name": "stdin",
     "output_type": "stream",
     "text": [
      "What do you want to do..?? Hit or Stand.. Enter 'h' or 's' s\n"
     ]
    },
    {
     "name": "stdout",
     "output_type": "stream",
     "text": [
      "Player Stands.. Dealer's Turn..\n",
      "\n",
      "Dealer's Hand:\n",
      " <card hidden>\n",
      " Clubs of Three\n",
      "\n",
      "Player's Hand:\n",
      " Hearts of Ten\n",
      " Hearts of Ace\n",
      " Diamonds of Ace\n",
      "\n",
      "Dealer's Hand:\n",
      " Hearts of Eight\n",
      " Clubs of Three\n",
      " Diamonds of Ten\n",
      "Dealer's Hand = 21\n",
      "\n",
      "Player's Hand:\n",
      " Hearts of Ten\n",
      " Hearts of Ace\n",
      " Diamonds of Ace\n",
      "Player's Hand = 12\n",
      "Dealer WINS..\n",
      "The player has 0 chips\n"
     ]
    },
    {
     "name": "stdin",
     "output_type": "stream",
     "text": [
      "Do u want to play another hand..?? Yes or No y\n"
     ]
    },
    {
     "name": "stdout",
     "output_type": "stream",
     "text": [
      "Welcome to the game...\n"
     ]
    },
    {
     "name": "stdin",
     "output_type": "stream",
     "text": [
      "Enter the bet... 100\n"
     ]
    },
    {
     "name": "stdout",
     "output_type": "stream",
     "text": [
      "\n",
      "Dealer's Hand:\n",
      " <card hidden>\n",
      " Clubs of King\n",
      "\n",
      "Player's Hand:\n",
      " Clubs of Six\n",
      " Hearts of Queen\n"
     ]
    },
    {
     "name": "stdin",
     "output_type": "stream",
     "text": [
      "What do you want to do..?? Hit or Stand.. Enter 'h' or 's' h\n"
     ]
    },
    {
     "name": "stdout",
     "output_type": "stream",
     "text": [
      "\n",
      "Dealer's Hand:\n",
      " <card hidden>\n",
      " Clubs of King\n",
      "\n",
      "Player's Hand:\n",
      " Clubs of Six\n",
      " Hearts of Queen\n",
      " Diamonds of King\n",
      "Player BUSTED..\n",
      "The player has 0 chips\n"
     ]
    },
    {
     "name": "stdin",
     "output_type": "stream",
     "text": [
      "Do u want to play another hand..?? Yes or No y\n"
     ]
    },
    {
     "name": "stdout",
     "output_type": "stream",
     "text": [
      "Welcome to the game...\n"
     ]
    },
    {
     "name": "stdin",
     "output_type": "stream",
     "text": [
      "Enter the bet... 100\n"
     ]
    },
    {
     "name": "stdout",
     "output_type": "stream",
     "text": [
      "\n",
      "Dealer's Hand:\n",
      " <card hidden>\n",
      " Spades of Seven\n",
      "\n",
      "Player's Hand:\n",
      " Spades of King\n",
      " Hearts of Seven\n"
     ]
    },
    {
     "name": "stdin",
     "output_type": "stream",
     "text": [
      "What do you want to do..?? Hit or Stand.. Enter 'h' or 's' s\n"
     ]
    },
    {
     "name": "stdout",
     "output_type": "stream",
     "text": [
      "Player Stands.. Dealer's Turn..\n",
      "\n",
      "Dealer's Hand:\n",
      " <card hidden>\n",
      " Spades of Seven\n",
      "\n",
      "Player's Hand:\n",
      " Spades of King\n",
      " Hearts of Seven\n",
      "\n",
      "Dealer's Hand:\n",
      " Hearts of Jack\n",
      " Spades of Seven\n",
      "Dealer's Hand = 17\n",
      "\n",
      "Player's Hand:\n",
      " Spades of King\n",
      " Hearts of Seven\n",
      "Player's Hand = 17\n",
      "Game TIED.. PUSH\n",
      "The player has 100 chips\n"
     ]
    },
    {
     "name": "stdin",
     "output_type": "stream",
     "text": [
      "Do u want to play another hand..?? Yes or No y\n"
     ]
    },
    {
     "name": "stdout",
     "output_type": "stream",
     "text": [
      "Welcome to the game...\n"
     ]
    },
    {
     "name": "stdin",
     "output_type": "stream",
     "text": [
      "Enter the bet... 100\n"
     ]
    },
    {
     "name": "stdout",
     "output_type": "stream",
     "text": [
      "\n",
      "Dealer's Hand:\n",
      " <card hidden>\n",
      " Spades of Jack\n",
      "\n",
      "Player's Hand:\n",
      " Hearts of Three\n",
      " Clubs of Queen\n"
     ]
    },
    {
     "name": "stdin",
     "output_type": "stream",
     "text": [
      "What do you want to do..?? Hit or Stand.. Enter 'h' or 's' s\n"
     ]
    },
    {
     "name": "stdout",
     "output_type": "stream",
     "text": [
      "Player Stands.. Dealer's Turn..\n",
      "\n",
      "Dealer's Hand:\n",
      " <card hidden>\n",
      " Spades of Jack\n",
      "\n",
      "Player's Hand:\n",
      " Hearts of Three\n",
      " Clubs of Queen\n",
      "\n",
      "Dealer's Hand:\n",
      " Spades of Seven\n",
      " Spades of Jack\n",
      "Dealer's Hand = 17\n",
      "\n",
      "Player's Hand:\n",
      " Hearts of Three\n",
      " Clubs of Queen\n",
      "Player's Hand = 13\n",
      "Game TIED.. PUSH\n",
      "The player has 100 chips\n"
     ]
    },
    {
     "name": "stdin",
     "output_type": "stream",
     "text": [
      "Do u want to play another hand..?? Yes or No y\n"
     ]
    },
    {
     "name": "stdout",
     "output_type": "stream",
     "text": [
      "Welcome to the game...\n"
     ]
    },
    {
     "name": "stdin",
     "output_type": "stream",
     "text": [
      "Enter the bet... 100\n"
     ]
    },
    {
     "name": "stdout",
     "output_type": "stream",
     "text": [
      "\n",
      "Dealer's Hand:\n",
      " <card hidden>\n",
      " Spades of Ace\n",
      "\n",
      "Player's Hand:\n",
      " Spades of Five\n",
      " Hearts of Ten\n"
     ]
    },
    {
     "name": "stdin",
     "output_type": "stream",
     "text": [
      "What do you want to do..?? Hit or Stand.. Enter 'h' or 's' h\n"
     ]
    },
    {
     "name": "stdout",
     "output_type": "stream",
     "text": [
      "\n",
      "Dealer's Hand:\n",
      " <card hidden>\n",
      " Spades of Ace\n",
      "\n",
      "Player's Hand:\n",
      " Spades of Five\n",
      " Hearts of Ten\n",
      " Spades of Two\n"
     ]
    },
    {
     "name": "stdin",
     "output_type": "stream",
     "text": [
      "What do you want to do..?? Hit or Stand.. Enter 'h' or 's' h\n"
     ]
    },
    {
     "name": "stdout",
     "output_type": "stream",
     "text": [
      "\n",
      "Dealer's Hand:\n",
      " <card hidden>\n",
      " Spades of Ace\n",
      "\n",
      "Player's Hand:\n",
      " Spades of Five\n",
      " Hearts of Ten\n",
      " Spades of Two\n",
      " Hearts of Three\n"
     ]
    },
    {
     "name": "stdin",
     "output_type": "stream",
     "text": [
      "What do you want to do..?? Hit or Stand.. Enter 'h' or 's' s\n"
     ]
    },
    {
     "name": "stdout",
     "output_type": "stream",
     "text": [
      "Player Stands.. Dealer's Turn..\n",
      "\n",
      "Dealer's Hand:\n",
      " <card hidden>\n",
      " Spades of Ace\n",
      "\n",
      "Player's Hand:\n",
      " Spades of Five\n",
      " Hearts of Ten\n",
      " Spades of Two\n",
      " Hearts of Three\n",
      "\n",
      "Dealer's Hand:\n",
      " Hearts of Four\n",
      " Spades of Ace\n",
      " Clubs of Jack\n",
      " Diamonds of King\n",
      "Dealer's Hand = 25\n",
      "\n",
      "Player's Hand:\n",
      " Spades of Five\n",
      " Hearts of Ten\n",
      " Spades of Two\n",
      " Hearts of Three\n",
      "Player's Hand = 20\n",
      "Player WINS.. Dealer BUSTED..\n",
      "The player has 200 chips\n"
     ]
    },
    {
     "name": "stdin",
     "output_type": "stream",
     "text": [
      "Do u want to play another hand..?? Yes or No y\n"
     ]
    },
    {
     "name": "stdout",
     "output_type": "stream",
     "text": [
      "Welcome to the game...\n"
     ]
    },
    {
     "name": "stdin",
     "output_type": "stream",
     "text": [
      "Enter the bet... 100\n"
     ]
    },
    {
     "name": "stdout",
     "output_type": "stream",
     "text": [
      "\n",
      "Dealer's Hand:\n",
      " <card hidden>\n",
      " Hearts of Ace\n",
      "\n",
      "Player's Hand:\n",
      " Clubs of Eight\n",
      " Clubs of Five\n"
     ]
    },
    {
     "name": "stdin",
     "output_type": "stream",
     "text": [
      "What do you want to do..?? Hit or Stand.. Enter 'h' or 's' h\n"
     ]
    },
    {
     "name": "stdout",
     "output_type": "stream",
     "text": [
      "\n",
      "Dealer's Hand:\n",
      " <card hidden>\n",
      " Hearts of Ace\n",
      "\n",
      "Player's Hand:\n",
      " Clubs of Eight\n",
      " Clubs of Five\n",
      " Spades of Three\n"
     ]
    },
    {
     "name": "stdin",
     "output_type": "stream",
     "text": [
      "What do you want to do..?? Hit or Stand.. Enter 'h' or 's' s\n"
     ]
    },
    {
     "name": "stdout",
     "output_type": "stream",
     "text": [
      "Player Stands.. Dealer's Turn..\n",
      "\n",
      "Dealer's Hand:\n",
      " <card hidden>\n",
      " Hearts of Ace\n",
      "\n",
      "Player's Hand:\n",
      " Clubs of Eight\n",
      " Clubs of Five\n",
      " Spades of Three\n",
      "\n",
      "Dealer's Hand:\n",
      " Diamonds of Seven\n",
      " Hearts of Ace\n",
      "Dealer's Hand = 18\n",
      "\n",
      "Player's Hand:\n",
      " Clubs of Eight\n",
      " Clubs of Five\n",
      " Spades of Three\n",
      "Player's Hand = 16\n",
      "Dealer WINS..\n",
      "The player has 0 chips\n"
     ]
    },
    {
     "name": "stdin",
     "output_type": "stream",
     "text": [
      "Do u want to play another hand..?? Yes or No n\n"
     ]
    }
   ],
   "source": [
    "while True:\n",
    "    # Print an opening statement\n",
    "\n",
    "    print(\"Welcome to the game...\")\n",
    "    \n",
    "    # Create & shuffle the deck, deal two cards to each player\n",
    "\n",
    "    deck = Deck()\n",
    "    deck.shuffle()\n",
    "    \n",
    "    player_hand = Hand()\n",
    "    player_hand.add_card(deck.deal())\n",
    "    player_hand.add_card(deck.deal())\n",
    "    \n",
    "    dealer_hand = Hand()\n",
    "    dealer_hand.add_card(deck.deal())\n",
    "    dealer_hand.add_card(deck.deal())\n",
    "        \n",
    "    # Set up the Player's chips\n",
    "    \n",
    "    player_chips = Chips()\n",
    "    \n",
    "    # Prompt the Player for their bet\n",
    "\n",
    "    take_bet(player_chips)\n",
    "    \n",
    "    # Show cards (but keep one dealer card hidden)\n",
    "\n",
    "    show_some(player_hand,dealer_hand)\n",
    "    \n",
    "    while playing:  # recall this variable from our hit_or_stand function\n",
    "        \n",
    "        # Prompt for Player to Hit or Stand\n",
    "        \n",
    "        hit_or_stand(deck,player_hand)\n",
    "        \n",
    "        # Show cards (but keep one dealer card hidden)\n",
    "\n",
    "        show_some(player_hand,dealer_hand)\n",
    "        \n",
    "        # If player's hand exceeds 21, run player_busts() and break out of loop\n",
    "        \n",
    "        if player_hand.value > 21:\n",
    "            player_busts(player_hand,dealer_hand,player_chips)\n",
    "            break\n",
    "\n",
    "    # If Player hasn't busted, play Dealer's hand until Dealer reaches 17\n",
    "    \n",
    "    if player_hand.value <= 21:\n",
    "        while dealer_hand.value < 17:\n",
    "            hit(deck,dealer_hand)\n",
    "    \n",
    "        # Show all cards\n",
    "        \n",
    "        show_all(player_hand,dealer_hand)\n",
    "    \n",
    "        # Run different winning scenarios\n",
    "        \n",
    "        if dealer_hand.value > 21:\n",
    "            dealer_busts(player_hand,dealer_hand,player_chips)\n",
    "        elif dealer_hand.value < 17:\n",
    "            player_wins(player_hand,dealer_hand,player_chips)\n",
    "        elif dealer_hand.value > 17:\n",
    "            dealer_wins(player_hand,dealer_hand,player_chips)\n",
    "        else:\n",
    "            push(player_hand,dealer_hand)\n",
    "    \n",
    "    # Inform Player of their chips total\n",
    "    \n",
    "    print(\"The player has {} chips\".format(player_chips.total))\n",
    "    \n",
    "    # Ask to play again\n",
    "    \n",
    "    new_game = input(\"Do u want to play another hand..?? Yes or No\")\n",
    "    if new_game[0].lower() == 'y':\n",
    "        playing = True\n",
    "        continue\n",
    "    else:\n",
    "        break"
   ]
  },
  {
   "cell_type": "code",
   "execution_count": null,
   "metadata": {},
   "outputs": [],
   "source": []
  },
  {
   "cell_type": "code",
   "execution_count": null,
   "metadata": {},
   "outputs": [],
   "source": []
  },
  {
   "cell_type": "code",
   "execution_count": null,
   "metadata": {},
   "outputs": [],
   "source": []
  },
  {
   "cell_type": "code",
   "execution_count": null,
   "metadata": {},
   "outputs": [],
   "source": []
  },
  {
   "cell_type": "code",
   "execution_count": null,
   "metadata": {},
   "outputs": [],
   "source": []
  },
  {
   "cell_type": "code",
   "execution_count": null,
   "metadata": {},
   "outputs": [],
   "source": []
  },
  {
   "cell_type": "code",
   "execution_count": null,
   "metadata": {},
   "outputs": [],
   "source": []
  },
  {
   "cell_type": "code",
   "execution_count": null,
   "metadata": {},
   "outputs": [],
   "source": []
  },
  {
   "cell_type": "code",
   "execution_count": null,
   "metadata": {},
   "outputs": [],
   "source": []
  }
 ],
 "metadata": {
  "kernelspec": {
   "display_name": "Python 3",
   "language": "python",
   "name": "python3"
  },
  "language_info": {
   "codemirror_mode": {
    "name": "ipython",
    "version": 3
   },
   "file_extension": ".py",
   "mimetype": "text/x-python",
   "name": "python",
   "nbconvert_exporter": "python",
   "pygments_lexer": "ipython3",
   "version": "3.7.0"
  }
 },
 "nbformat": 4,
 "nbformat_minor": 2
}
